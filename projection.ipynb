{
 "cells": [
  {
   "cell_type": "markdown",
   "metadata": {},
   "source": [
    "# RNA velocity projection\n",
    "## anndataをもらって、修正されたvelocityを格納したanndataを返す。"
   ]
  },
  {
   "cell_type": "code",
   "execution_count": 1,
   "metadata": {},
   "outputs": [],
   "source": [
    "# packages\n",
    "import random\n",
    "import math\n",
    "import numpy as np\n",
    "import pandas as pd\n",
    "import matplotlib.pyplot as plt\n",
    "from mpl_toolkits.mplot3d import Axes3D\n",
    "from sklearn.neighbors import kneighbors_graph\n",
    "from sklearn.decomposition import TruncatedSVD\n",
    "from scipy.linalg import hadamard, subspace_angles\n",
    "from sklearn.decomposition import PCA"
   ]
  },
  {
   "cell_type": "code",
   "execution_count": 104,
   "metadata": {},
   "outputs": [],
   "source": [
    "def projection(df_old_vel):\n",
    "    # input: cells * genes dataframe\n",
    "    # dartaframeに名前がついている場合注意\n",
    "    df_new_vel = pd.DataFrame(index=[], columns=df_old_vel.columns)\n",
    "    k = 50\n",
    "    m_estimate = 2\n",
    "    kNN = kneighbors_graph(df_old_vel, k, mode='connectivity', include_self=True)\n",
    "    for idx,row in df_old_vel.iterrows():\n",
    "        nn = kNN.indices[idx*k:idx*k+k]\n",
    "        df = df_old_vel.iloc[nn,:] # kNN poins data df of idx\n",
    "        mu = df.mean()\n",
    "        f = lambda x: x - mu\n",
    "        df_mu_centering = df.apply(f, axis=1)\n",
    "        \n",
    "        # Estimated tangent vector space (m_estimate-dimensional subspace)\n",
    "        pca = PCA(n_components=m_estimate)\n",
    "        pca.fit(df_mu_centering)\n",
    "        TpM_est = pd.DataFrame(pca.components_).T\n",
    "        # 推定された接ベクトル空間を構成する基底を列ベクトルにもつ dim(genes)*m_estimate matrix\n",
    "        \n",
    "        V = TpM_est.to_numpy()\n",
    "        new_vel = np.dot(np.dot(V, V.T), row)\n",
    "        df_new_vel = df_new_vel.append(pd.Series(new_vel, index=df_new_vel.columns), ignore_index=True)\n",
    "    return df_new_vel"
   ]
  },
  {
   "cell_type": "code",
   "execution_count": 29,
   "metadata": {},
   "outputs": [
    {
     "data": {
      "text/html": [
       "<div>\n",
       "<style scoped>\n",
       "    .dataframe tbody tr th:only-of-type {\n",
       "        vertical-align: middle;\n",
       "    }\n",
       "\n",
       "    .dataframe tbody tr th {\n",
       "        vertical-align: top;\n",
       "    }\n",
       "\n",
       "    .dataframe thead th {\n",
       "        text-align: right;\n",
       "    }\n",
       "</style>\n",
       "<table border=\"1\" class=\"dataframe\">\n",
       "  <thead>\n",
       "    <tr style=\"text-align: right;\">\n",
       "      <th></th>\n",
       "      <th>0</th>\n",
       "      <th>1</th>\n",
       "      <th>2</th>\n",
       "      <th>3</th>\n",
       "    </tr>\n",
       "  </thead>\n",
       "  <tbody>\n",
       "    <tr>\n",
       "      <th>0</th>\n",
       "      <td>-0.306972</td>\n",
       "      <td>-0.330732</td>\n",
       "      <td>0.0</td>\n",
       "      <td>0.487214</td>\n",
       "    </tr>\n",
       "    <tr>\n",
       "      <th>1</th>\n",
       "      <td>-0.543639</td>\n",
       "      <td>0.370290</td>\n",
       "      <td>0.0</td>\n",
       "      <td>-0.694917</td>\n",
       "    </tr>\n",
       "    <tr>\n",
       "      <th>2</th>\n",
       "      <td>0.410854</td>\n",
       "      <td>0.681481</td>\n",
       "      <td>0.0</td>\n",
       "      <td>-0.376236</td>\n",
       "    </tr>\n",
       "    <tr>\n",
       "      <th>3</th>\n",
       "      <td>0.485999</td>\n",
       "      <td>-0.031193</td>\n",
       "      <td>0.0</td>\n",
       "      <td>0.788212</td>\n",
       "    </tr>\n",
       "    <tr>\n",
       "      <th>4</th>\n",
       "      <td>0.365637</td>\n",
       "      <td>-0.457316</td>\n",
       "      <td>0.0</td>\n",
       "      <td>-0.313312</td>\n",
       "    </tr>\n",
       "  </tbody>\n",
       "</table>\n",
       "</div>"
      ],
      "text/plain": [
       "          0         1    2         3\n",
       "0 -0.306972 -0.330732  0.0  0.487214\n",
       "1 -0.543639  0.370290  0.0 -0.694917\n",
       "2  0.410854  0.681481  0.0 -0.376236\n",
       "3  0.485999 -0.031193  0.0  0.788212\n",
       "4  0.365637 -0.457316  0.0 -0.313312"
      ]
     },
     "execution_count": 29,
     "metadata": {},
     "output_type": "execute_result"
    }
   ],
   "source": [
    "rna_velocity_projection(b)"
   ]
  },
  {
   "cell_type": "code",
   "execution_count": null,
   "metadata": {},
   "outputs": [],
   "source": []
  },
  {
   "cell_type": "code",
   "execution_count": null,
   "metadata": {},
   "outputs": [],
   "source": []
  },
  {
   "cell_type": "code",
   "execution_count": null,
   "metadata": {},
   "outputs": [],
   "source": []
  },
  {
   "cell_type": "code",
   "execution_count": null,
   "metadata": {},
   "outputs": [],
   "source": []
  },
  {
   "cell_type": "code",
   "execution_count": null,
   "metadata": {},
   "outputs": [],
   "source": []
  },
  {
   "cell_type": "code",
   "execution_count": null,
   "metadata": {},
   "outputs": [],
   "source": []
  },
  {
   "cell_type": "code",
   "execution_count": null,
   "metadata": {},
   "outputs": [],
   "source": []
  },
  {
   "cell_type": "markdown",
   "metadata": {},
   "source": [
    "## 以下、projectionの超球での検証（プログラムがあっているか）"
   ]
  },
  {
   "cell_type": "code",
   "execution_count": 33,
   "metadata": {},
   "outputs": [],
   "source": [
    "def uni_dist_on_unit_sphere(n=1000):\n",
    "    goldenRatio = (1 + 5**0.5) / 2\n",
    "    i = np.arange(0, n)\n",
    "    phi = 2 * np.pi * i / goldenRatio\n",
    "    theta = np.arccos(1 - 2*(i+0.5)/n)\n",
    "    x, y, z = np.cos(phi) * np.sin(theta), np.sin(phi) * np.sin(theta), np.cos(theta)\n",
    "    return x, y, z, phi, theta # [3 * n]"
   ]
  },
  {
   "cell_type": "code",
   "execution_count": 34,
   "metadata": {},
   "outputs": [],
   "source": [
    "x,y,z,phi,theta = uni_dist_on_unit_sphere()"
   ]
  },
  {
   "cell_type": "code",
   "execution_count": 35,
   "metadata": {},
   "outputs": [
    {
     "data": {
      "text/plain": [
       "array([[ 0.04471018,  0.        ,  0.999     ],\n",
       "       [-0.05707349, -0.052284  ,  0.997     ],\n",
       "       [ 0.00873164,  0.0994925 ,  0.995     ],\n",
       "       ...,\n",
       "       [ 0.04258895,  0.09033926, -0.995     ],\n",
       "       [ 0.02295468, -0.07391943, -0.997     ],\n",
       "       [-0.03861977,  0.02252806, -0.999     ]])"
      ]
     },
     "execution_count": 35,
     "metadata": {},
     "output_type": "execute_result"
    }
   ],
   "source": [
    "ls = pd.DataFrame([x,y,z]).T.to_numpy()\n",
    "ls"
   ]
  },
  {
   "cell_type": "code",
   "execution_count": 36,
   "metadata": {},
   "outputs": [
    {
     "data": {
      "image/png": "[encoded data removed]",
      "text/plain": [
       "<Figure size 432x288 with 1 Axes>"
      ]
     },
     "metadata": {
      "needs_background": "light"
     },
     "output_type": "display_data"
    }
   ],
   "source": [
    "fig = plt.figure()\n",
    "ax = fig.add_subplot(111, projection='3d')\n",
    "ax.scatter3D(x,y,z)\n",
    "plt.show()"
   ]
  },
  {
   "cell_type": "code",
   "execution_count": 54,
   "metadata": {},
   "outputs": [
    {
     "data": {
      "text/html": [
       "<div>\n",
       "<style scoped>\n",
       "    .dataframe tbody tr th:only-of-type {\n",
       "        vertical-align: middle;\n",
       "    }\n",
       "\n",
       "    .dataframe tbody tr th {\n",
       "        vertical-align: top;\n",
       "    }\n",
       "\n",
       "    .dataframe thead th {\n",
       "        text-align: right;\n",
       "    }\n",
       "</style>\n",
       "<table border=\"1\" class=\"dataframe\">\n",
       "  <thead>\n",
       "    <tr style=\"text-align: right;\">\n",
       "      <th></th>\n",
       "      <th>0</th>\n",
       "      <th>1</th>\n",
       "      <th>2</th>\n",
       "    </tr>\n",
       "  </thead>\n",
       "  <tbody>\n",
       "    <tr>\n",
       "      <th>0</th>\n",
       "      <td>-0.006392</td>\n",
       "      <td>-0.010255</td>\n",
       "      <td>0.000432</td>\n",
       "    </tr>\n",
       "    <tr>\n",
       "      <th>1</th>\n",
       "      <td>0.000120</td>\n",
       "      <td>-0.004382</td>\n",
       "      <td>-0.000204</td>\n",
       "    </tr>\n",
       "    <tr>\n",
       "      <th>2</th>\n",
       "      <td>-0.007684</td>\n",
       "      <td>-0.009351</td>\n",
       "      <td>0.001151</td>\n",
       "    </tr>\n",
       "    <tr>\n",
       "      <th>3</th>\n",
       "      <td>0.002717</td>\n",
       "      <td>-0.005356</td>\n",
       "      <td>-0.000665</td>\n",
       "    </tr>\n",
       "    <tr>\n",
       "      <th>4</th>\n",
       "      <td>-0.013027</td>\n",
       "      <td>0.001262</td>\n",
       "      <td>-0.001587</td>\n",
       "    </tr>\n",
       "    <tr>\n",
       "      <th>...</th>\n",
       "      <td>...</td>\n",
       "      <td>...</td>\n",
       "      <td>...</td>\n",
       "    </tr>\n",
       "    <tr>\n",
       "      <th>995</th>\n",
       "      <td>0.011888</td>\n",
       "      <td>-0.005474</td>\n",
       "      <td>0.001587</td>\n",
       "    </tr>\n",
       "    <tr>\n",
       "      <th>996</th>\n",
       "      <td>-0.005046</td>\n",
       "      <td>-0.003257</td>\n",
       "      <td>0.000665</td>\n",
       "    </tr>\n",
       "    <tr>\n",
       "      <th>997</th>\n",
       "      <td>0.001926</td>\n",
       "      <td>-0.011949</td>\n",
       "      <td>-0.001151</td>\n",
       "    </tr>\n",
       "    <tr>\n",
       "      <th>998</th>\n",
       "      <td>-0.002311</td>\n",
       "      <td>-0.003724</td>\n",
       "      <td>0.000204</td>\n",
       "    </tr>\n",
       "    <tr>\n",
       "      <th>999</th>\n",
       "      <td>0.000354</td>\n",
       "      <td>-0.012079</td>\n",
       "      <td>-0.000432</td>\n",
       "    </tr>\n",
       "  </tbody>\n",
       "</table>\n",
       "<p>1000 rows × 3 columns</p>\n",
       "</div>"
      ],
      "text/plain": [
       "            0         1         2\n",
       "0   -0.006392 -0.010255  0.000432\n",
       "1    0.000120 -0.004382 -0.000204\n",
       "2   -0.007684 -0.009351  0.001151\n",
       "3    0.002717 -0.005356 -0.000665\n",
       "4   -0.013027  0.001262 -0.001587\n",
       "..        ...       ...       ...\n",
       "995  0.011888 -0.005474  0.001587\n",
       "996 -0.005046 -0.003257  0.000665\n",
       "997  0.001926 -0.011949 -0.001151\n",
       "998 -0.002311 -0.003724  0.000204\n",
       "999  0.000354 -0.012079 -0.000432\n",
       "\n",
       "[1000 rows x 3 columns]"
      ]
     },
     "execution_count": 54,
     "metadata": {},
     "output_type": "execute_result"
    }
   ],
   "source": [
    "b, index, TpM_EST = rna_velocity_projection(pd.DataFrame(ls))\n",
    "b"
   ]
  },
  {
   "cell_type": "code",
   "execution_count": 55,
   "metadata": {},
   "outputs": [
    {
     "data": {
      "text/html": [
       "<div>\n",
       "<style scoped>\n",
       "    .dataframe tbody tr th:only-of-type {\n",
       "        vertical-align: middle;\n",
       "    }\n",
       "\n",
       "    .dataframe tbody tr th {\n",
       "        vertical-align: top;\n",
       "    }\n",
       "\n",
       "    .dataframe thead th {\n",
       "        text-align: right;\n",
       "    }\n",
       "</style>\n",
       "<table border=\"1\" class=\"dataframe\">\n",
       "  <thead>\n",
       "    <tr style=\"text-align: right;\">\n",
       "      <th></th>\n",
       "      <th>0</th>\n",
       "      <th>1</th>\n",
       "    </tr>\n",
       "  </thead>\n",
       "  <tbody>\n",
       "    <tr>\n",
       "      <th>0</th>\n",
       "      <td>-0.664194</td>\n",
       "      <td>-0.746544</td>\n",
       "    </tr>\n",
       "    <tr>\n",
       "      <th>1</th>\n",
       "      <td>0.745766</td>\n",
       "      <td>-0.665308</td>\n",
       "    </tr>\n",
       "    <tr>\n",
       "      <th>2</th>\n",
       "      <td>0.051769</td>\n",
       "      <td>0.006080</td>\n",
       "    </tr>\n",
       "  </tbody>\n",
       "</table>\n",
       "</div>"
      ],
      "text/plain": [
       "          0         1\n",
       "0 -0.664194 -0.746544\n",
       "1  0.745766 -0.665308\n",
       "2  0.051769  0.006080"
      ]
     },
     "execution_count": 55,
     "metadata": {},
     "output_type": "execute_result"
    }
   ],
   "source": [
    "TpM_EST"
   ]
  },
  {
   "cell_type": "code",
   "execution_count": 57,
   "metadata": {},
   "outputs": [
    {
     "data": {
      "text/plain": [
       "999"
      ]
     },
     "execution_count": 57,
     "metadata": {},
     "output_type": "execute_result"
    }
   ],
   "source": [
    "index"
   ]
  },
  {
   "cell_type": "code",
   "execution_count": 41,
   "metadata": {},
   "outputs": [],
   "source": [
    "raw_data = pd.DataFrame(ls)"
   ]
  },
  {
   "cell_type": "code",
   "execution_count": 45,
   "metadata": {},
   "outputs": [
    {
     "data": {
      "text/html": [
       "<div>\n",
       "<style scoped>\n",
       "    .dataframe tbody tr th:only-of-type {\n",
       "        vertical-align: middle;\n",
       "    }\n",
       "\n",
       "    .dataframe tbody tr th {\n",
       "        vertical-align: top;\n",
       "    }\n",
       "\n",
       "    .dataframe thead th {\n",
       "        text-align: right;\n",
       "    }\n",
       "</style>\n",
       "<table border=\"1\" class=\"dataframe\">\n",
       "  <thead>\n",
       "    <tr style=\"text-align: right;\">\n",
       "      <th></th>\n",
       "      <th>0</th>\n",
       "      <th>1</th>\n",
       "      <th>2</th>\n",
       "    </tr>\n",
       "  </thead>\n",
       "  <tbody>\n",
       "    <tr>\n",
       "      <th>0</th>\n",
       "      <td>0.044710</td>\n",
       "      <td>0.000000</td>\n",
       "      <td>0.999</td>\n",
       "    </tr>\n",
       "    <tr>\n",
       "      <th>1</th>\n",
       "      <td>-0.057073</td>\n",
       "      <td>-0.052284</td>\n",
       "      <td>0.997</td>\n",
       "    </tr>\n",
       "    <tr>\n",
       "      <th>2</th>\n",
       "      <td>0.008732</td>\n",
       "      <td>0.099493</td>\n",
       "      <td>0.995</td>\n",
       "    </tr>\n",
       "    <tr>\n",
       "      <th>3</th>\n",
       "      <td>0.071865</td>\n",
       "      <td>-0.093736</td>\n",
       "      <td>0.993</td>\n",
       "    </tr>\n",
       "    <tr>\n",
       "      <th>4</th>\n",
       "      <td>-0.131816</td>\n",
       "      <td>0.023316</td>\n",
       "      <td>0.991</td>\n",
       "    </tr>\n",
       "    <tr>\n",
       "      <th>...</th>\n",
       "      <td>...</td>\n",
       "      <td>...</td>\n",
       "      <td>...</td>\n",
       "    </tr>\n",
       "    <tr>\n",
       "      <th>995</th>\n",
       "      <td>0.125608</td>\n",
       "      <td>-0.046278</td>\n",
       "      <td>-0.991</td>\n",
       "    </tr>\n",
       "    <tr>\n",
       "      <th>996</th>\n",
       "      <td>-0.109306</td>\n",
       "      <td>-0.044756</td>\n",
       "      <td>-0.993</td>\n",
       "    </tr>\n",
       "    <tr>\n",
       "      <th>997</th>\n",
       "      <td>0.042589</td>\n",
       "      <td>0.090339</td>\n",
       "      <td>-0.995</td>\n",
       "    </tr>\n",
       "    <tr>\n",
       "      <th>998</th>\n",
       "      <td>0.022955</td>\n",
       "      <td>-0.073919</td>\n",
       "      <td>-0.997</td>\n",
       "    </tr>\n",
       "    <tr>\n",
       "      <th>999</th>\n",
       "      <td>-0.038620</td>\n",
       "      <td>0.022528</td>\n",
       "      <td>-0.999</td>\n",
       "    </tr>\n",
       "  </tbody>\n",
       "</table>\n",
       "<p>1000 rows × 3 columns</p>\n",
       "</div>"
      ],
      "text/plain": [
       "            0         1      2\n",
       "0    0.044710  0.000000  0.999\n",
       "1   -0.057073 -0.052284  0.997\n",
       "2    0.008732  0.099493  0.995\n",
       "3    0.071865 -0.093736  0.993\n",
       "4   -0.131816  0.023316  0.991\n",
       "..        ...       ...    ...\n",
       "995  0.125608 -0.046278 -0.991\n",
       "996 -0.109306 -0.044756 -0.993\n",
       "997  0.042589  0.090339 -0.995\n",
       "998  0.022955 -0.073919 -0.997\n",
       "999 -0.038620  0.022528 -0.999\n",
       "\n",
       "[1000 rows x 3 columns]"
      ]
     },
     "execution_count": 45,
     "metadata": {},
     "output_type": "execute_result"
    }
   ],
   "source": [
    "raw_data"
   ]
  },
  {
   "cell_type": "code",
   "execution_count": 102,
   "metadata": {},
   "outputs": [],
   "source": [
    "import numpy as np\n",
    "import matplotlib.pyplot as plt\n",
    "from mpl_toolkits.mplot3d import axes3d\n",
    "\n",
    "# 基底ベクトルを指定して平面をプロットする関数\n",
    "# axes：サブプロット\n",
    "# v,w：基底ベクトル\n",
    "# xrange,yrange,zrange：x軸,y軸,z軸の範囲\n",
    "# vcolor,wcolor：基底ベクトルの色\n",
    "# pcolor,alpha：平面の色,透明度\n",
    "\n",
    "def bvector_plane(axes, v, w, xrange, yrange, zrange,\n",
    "                  srange, trange,x,y,z,TpM_EST,\n",
    "                  vcolor=\"red\", wcolor=\"blue\",\n",
    "                  pcolor=\"green\", alpha=0.2):\n",
    "\n",
    "    # 軸ラベルの設定\n",
    "    axes.set_xlabel(\"x\", fontsize = 16)\n",
    "    axes.set_ylabel(\"y\", fontsize = 16)\n",
    "    axes.set_zlabel(\"z\", fontsize = 16)\n",
    "\n",
    "    # 軸範囲の設定\n",
    "    axes.set_xlim(xrange[0], xrange[1])\n",
    "    axes.set_ylim(yrange[0], yrange[1])\n",
    "    axes.set_zlim(zrange[0], zrange[1])\n",
    "\n",
    "    # 格子点の作成\n",
    "    s = np.arange(srange[0], srange[1], 0.2)\n",
    "    t = np.arange(trange[0], trange[1], 0.2)\n",
    "    ss, tt = np.meshgrid(s, t)\n",
    "\n",
    "    # 基底ベクトルの線型結合\n",
    "    xx = x + v[0]*ss + w[0]*tt\n",
    "    yy = y + v[1]*ss + w[1]*tt\n",
    "    zz = z + v[2]*ss + w[2]*tt\n",
    "\n",
    "    # 平面をプロット\n",
    "    ax.plot_surface(xx, yy, zz, color=pcolor, alpha=alpha)\n",
    "\n",
    "    # 基底ベクトルをプロット\n",
    "    axes.quiver(x,y,z, v[0], v[1], v[2],\n",
    "                color=vcolor, length=1, arrow_length_ratio=0.2)\n",
    "    \n",
    "    axes.quiver(x,y,z, w[0], w[1], w[2],\n",
    "                color=wcolor, length=1, arrow_length_ratio=0.2)\n",
    "    \n",
    "    # RNA velocityベクトルをプロット\n",
    "    vec = [0.5,0.5,-1.0]\n",
    "    axes.quiver(x,y,z, vec[0], vec[1], vec[2], color=pcolor, length=2, arrow_length_ratio=0.2)\n",
    "    projected = np.dot(np.dot(TpM_EST, TpM_EST.T), vec)\n",
    "    print(projected)\n",
    "    axes.quiver(x,y,z, projected[0], projected[1], vec[2], color=\"orange\", length=2, arrow_length_ratio=0.2)"
   ]
  },
  {
   "cell_type": "code",
   "execution_count": 103,
   "metadata": {},
   "outputs": [
    {
     "name": "stdout",
     "output_type": "stream",
     "text": [
      "[ 0.53883847  0.46551309 -0.00489754]\n"
     ]
    },
    {
     "data": {
      "image/png": "[encoded data removed]",
      "text/plain": [
       "<Figure size 432x288 with 1 Axes>"
      ]
     },
     "metadata": {
      "needs_background": "light"
     },
     "output_type": "display_data"
    }
   ],
   "source": [
    "#df = df.reset_index().iloc[:,1:]\n",
    "#df = df.iloc[nn,:]\n",
    "fig = plt.figure()\n",
    "ax = fig.add_subplot(111, projection='3d')\n",
    "ax.set_xlim(-1,1)\n",
    "ax.set_ylim(-1,1)\n",
    "ax.set_zlim(-1,1)\n",
    "# ax.set_xlim(0,2)\n",
    "# ax.set_ylim(0,2)\n",
    "# ax.set_zlim(0,2)\n",
    "#ax.scatter3D(df.iloc[:,0],df.iloc[:,1],df.iloc[:,2])\n",
    "ax.scatter3D(raw_data.iloc[:,0],raw_data.iloc[:,1],raw_data.iloc[:,2])\n",
    "\n",
    "e0 = TpM_EST.iloc[:,0]\n",
    "e1 = TpM_EST.iloc[:,1]\n",
    "#e2 = TpM_est.iloc[:,2]\n",
    "\n",
    "\n",
    "# e0_ans = TpS2_normalized.iloc[:,0]\n",
    "# e1_ans = TpS2_normalized.iloc[:,1]\n",
    "\n",
    "srange = [-1,1]\n",
    "trange = [-1,1]\n",
    "xrange = [-1,1]\n",
    "yrange = [-1,1]\n",
    "zrange = [-1,1]\n",
    "# srange = [-1,1]\n",
    "# trange = [-1,1]\n",
    "# xrange = [0,2]\n",
    "# yrange = [0,2]\n",
    "# zrange = [0,2]\n",
    "#ax.scatter3D(df_pmu_centering.iloc[:,0],df_pmu_centering.iloc[:,1],df_pmu_centering.iloc[:,2])\n",
    "bvector_plane(ax, e0,e1,xrange, yrange,zrange, srange,trange,raw_data.iloc[index,0],raw_data.iloc[index,1],raw_data.iloc[index,2], TpM_EST)\n",
    "#bvector_plane(ax, e0_ans,e1_ans,xrange, yrange,zrange, srange,trange,df.iloc[0,0],df.iloc[0,1],df.iloc[0,2])\n",
    "\n",
    "plt.show()"
   ]
  },
  {
   "cell_type": "code",
   "execution_count": 100,
   "metadata": {},
   "outputs": [
    {
     "data": {
      "text/plain": [
       "array([ 0.53748951, -0.53328909, -0.03946002])"
      ]
     },
     "execution_count": 100,
     "metadata": {},
     "output_type": "execute_result"
    }
   ],
   "source": [
    "np.dot(np.dot(TpM_EST, TpM_EST.T), [0.5,-0.5,-1.0])"
   ]
  },
  {
   "cell_type": "code",
   "execution_count": 101,
   "metadata": {},
   "outputs": [
    {
     "data": {
      "text/html": [
       "<div>\n",
       "<style scoped>\n",
       "    .dataframe tbody tr th:only-of-type {\n",
       "        vertical-align: middle;\n",
       "    }\n",
       "\n",
       "    .dataframe tbody tr th {\n",
       "        vertical-align: top;\n",
       "    }\n",
       "\n",
       "    .dataframe thead th {\n",
       "        text-align: right;\n",
       "    }\n",
       "</style>\n",
       "<table border=\"1\" class=\"dataframe\">\n",
       "  <thead>\n",
       "    <tr style=\"text-align: right;\">\n",
       "      <th></th>\n",
       "      <th>0</th>\n",
       "      <th>1</th>\n",
       "    </tr>\n",
       "  </thead>\n",
       "  <tbody>\n",
       "    <tr>\n",
       "      <th>0</th>\n",
       "      <td>-0.664194</td>\n",
       "      <td>-0.746544</td>\n",
       "    </tr>\n",
       "    <tr>\n",
       "      <th>1</th>\n",
       "      <td>0.745766</td>\n",
       "      <td>-0.665308</td>\n",
       "    </tr>\n",
       "    <tr>\n",
       "      <th>2</th>\n",
       "      <td>0.051769</td>\n",
       "      <td>0.006080</td>\n",
       "    </tr>\n",
       "  </tbody>\n",
       "</table>\n",
       "</div>"
      ],
      "text/plain": [
       "          0         1\n",
       "0 -0.664194 -0.746544\n",
       "1  0.745766 -0.665308\n",
       "2  0.051769  0.006080"
      ]
     },
     "execution_count": 101,
     "metadata": {},
     "output_type": "execute_result"
    }
   ],
   "source": [
    "TpM_EST"
   ]
  },
  {
   "cell_type": "code",
   "execution_count": 59,
   "metadata": {},
   "outputs": [
    {
     "data": {
      "text/plain": [
       "0   -0.038620\n",
       "1    0.022528\n",
       "2   -0.999000\n",
       "Name: 999, dtype: float64"
      ]
     },
     "execution_count": 59,
     "metadata": {},
     "output_type": "execute_result"
    }
   ],
   "source": [
    "raw_data.iloc[index,:]"
   ]
  },
  {
   "cell_type": "code",
   "execution_count": 69,
   "metadata": {},
   "outputs": [
    {
     "data": {
      "text/plain": [
       "-0.7465438923973247"
      ]
     },
     "execution_count": 69,
     "metadata": {},
     "output_type": "execute_result"
    }
   ],
   "source": [
    "e1[0]"
   ]
  },
  {
   "cell_type": "code",
   "execution_count": null,
   "metadata": {},
   "outputs": [],
   "source": []
  }
 ],
 "metadata": {
  "kernelspec": {
   "display_name": "Python 3",
   "language": "python",
   "name": "python3"
  },
  "language_info": {
   "codemirror_mode": {
    "name": "ipython",
    "version": 3
   },
   "file_extension": ".py",
   "mimetype": "text/x-python",
   "name": "python",
   "nbconvert_exporter": "python",
   "pygments_lexer": "ipython3",
   "version": "3.8.2"
  }
 },
 "nbformat": 4,
 "nbformat_minor": 4
}
